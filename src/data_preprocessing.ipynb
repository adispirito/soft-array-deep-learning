{
 "cells": [
  {
   "cell_type": "markdown",
   "id": "particular-writing",
   "metadata": {},
   "source": [
    "# Duke ML Project - Sparse Array DL\n",
    "## Title: Data Preprocessing Notebook\n",
    "## Author: Anthony DiSpirito III\n",
    "## Github: @axd465"
   ]
  },
  {
   "cell_type": "markdown",
   "id": "handed-football",
   "metadata": {},
   "source": [
    "### Import Statements"
   ]
  },
  {
   "cell_type": "code",
   "execution_count": 8,
   "id": "brave-davis",
   "metadata": {
    "tags": []
   },
   "outputs": [
    {
     "name": "stdout",
     "output_type": "stream",
     "text": [
      "Num Visible Physical GPUs:  1 \n",
      "Num Visible GPUs Available:  1\n",
      "1 Visible GPUs, 1 Logical GPUs\n",
      "Visible Devices are: [PhysicalDevice(name='/physical_device:CPU:0', device_type='CPU'), PhysicalDevice(name='/physical_device:GPU:0', device_type='GPU')]\n",
      "Tensorflow version: 2.11.0\n"
     ]
    }
   ],
   "source": [
    "import tensorflow as tf\n",
    "import numpy as np\n",
    "import matplotlib.pyplot as plt\n",
    "import tensorflow_datasets as tfds\n",
    "import os\n",
    "import shutil\n",
    "import imageio\n",
    "import scipy\n",
    "from functools import partial\n",
    "\n",
    "GPU = 0\n",
    "GPU_MEM = None#40960 # in Mb\n",
    "use_mixed_prec = False\n",
    "\n",
    "physical_gpus = tf.config.list_physical_devices('GPU')\n",
    "\n",
    "if physical_gpus:\n",
    "    try:\n",
    "        # Disable GPU\n",
    "        if GPU is None:\n",
    "            gpu_id = []\n",
    "        else:\n",
    "            gpu_id = physical_gpus[GPU:GPU+1]\n",
    "        tf.config.set_visible_devices(gpu_id, 'GPU')\n",
    "        visible_gpus = tf.config.get_visible_devices('GPU')\n",
    "        tf.config.experimental.set_memory_growth(*visible_gpus, True)\n",
    "        print(\"Num Visible Physical GPUs: \", len(physical_gpus),\n",
    "              \"\\nNum Visible GPUs Available: \", len(visible_gpus))\n",
    "        if GPU is not None and GPU_MEM is not None:\n",
    "            tf.config.set_logical_device_configuration(\n",
    "                gpu_id[0],\n",
    "                [tf.config.LogicalDeviceConfiguration(memory_limit=GPU_MEM)]\n",
    "            )\n",
    "        logical_gpus = tf.config.list_logical_devices('GPU')\n",
    "        print(len(visible_gpus), \"Visible GPUs,\", len(logical_gpus), \"Logical GPUs\")\n",
    "        print(f\"Visible Devices are: {tf.config.get_visible_devices()}\")\n",
    "    except RuntimeError as e:\n",
    "        # Virtual devices must be set before GPUs have been initialized\n",
    "        print(e)\n",
    "\n",
    "%matplotlib inline\n",
    "%load_ext autoreload\n",
    "%autoreload 2\n",
    "print('Tensorflow version: ' + tf.__version__)\n",
    "\n",
    "# For Mixed Precision\n",
    "from tensorflow.keras import mixed_precision\n",
    "if use_mixed_prec:\n",
    "    policy = mixed_precision.Policy('mixed_float16')\n",
    "    mixed_precision.set_global_policy(policy)\n",
    "    print('Compute dtype: %s' % policy.compute_dtype)\n",
    "    print('Variable dtype: %s' % policy.variable_dtype)"
   ]
  },
  {
   "cell_type": "markdown",
   "id": "optical-anchor",
   "metadata": {},
   "source": [
    "## Saving Raw Vol Fully Sampled as .NPY"
   ]
  },
  {
   "cell_type": "code",
   "execution_count": 2,
   "id": "adverse-measurement",
   "metadata": {
    "tags": []
   },
   "outputs": [
    {
     "data": {
      "application/vnd.jupyter.widget-view+json": {
       "model_id": "dd64062bc17c49b1a54a9151222f4c47",
       "version_major": 2,
       "version_minor": 0
      },
      "text/plain": [
       "  0%|          | 0/240 [00:00<?, ?it/s]"
      ]
     },
     "metadata": {},
     "output_type": "display_data"
    }
   ],
   "source": [
    "from python.utils.vol_process_utils import save_npy_vols\n",
    "\n",
    "input_dir = \"./recon_code/data/raw_rfmat_pa\"\n",
    "output_dir = './recon_code/data/raw_rfnpy_pa/'\n",
    "delete_previous = True\n",
    "norm = \"norm_amp\"\n",
    "keyword = \"rfdata\"#\"pa_rec0\"\n",
    "verbose = False\n",
    "\n",
    "save_npy_vols(input_dir, \n",
    "              output_dir,\n",
    "              keyword=keyword,\n",
    "              delete_previous=delete_previous,\n",
    "              norm=norm,\n",
    "              verbose=verbose)"
   ]
  },
  {
   "cell_type": "markdown",
   "id": "4442bd23-a514-4cde-8b33-72b62b0a1042",
   "metadata": {},
   "source": [
    "## Saving Raw Vol Sparse Sampled as .NPY"
   ]
  },
  {
   "cell_type": "code",
   "execution_count": 9,
   "id": "f719aeda-35fd-4906-9715-fb090b11bff6",
   "metadata": {
    "tags": []
   },
   "outputs": [
    {
     "data": {
      "application/vnd.jupyter.widget-view+json": {
       "model_id": "c966284a76ee412f9927883c099c4e12",
       "version_major": 2,
       "version_minor": 0
      },
      "text/plain": [
       "  0%|          | 0/140 [00:00<?, ?it/s]"
      ]
     },
     "metadata": {},
     "output_type": "display_data"
    }
   ],
   "source": [
    "# from python.utils.vol_process_utils import save_npy_vols\n",
    "\n",
    "# input_dir = \"./recon_code/data/raw_mat/rand_undersampled_128\"\n",
    "# output_dir = './recon_code/data/raw_npy/rand_undersampled_128'\n",
    "# delete_previous = True\n",
    "# norm = \"norm_amp\"\n",
    "# keyword = \"pa_rec0\"\n",
    "# verbose = False\n",
    "\n",
    "# save_npy_vols(input_dir, \n",
    "#               output_dir,\n",
    "#               keyword=keyword,\n",
    "#               delete_previous=delete_previous,\n",
    "#               norm=norm,\n",
    "#               verbose=verbose)"
   ]
  },
  {
   "cell_type": "code",
   "execution_count": null,
   "id": "ac7c6a12-b476-4bbe-8dfc-92705b37a7d5",
   "metadata": {},
   "outputs": [],
   "source": []
  }
 ],
 "metadata": {
  "kernelspec": {
   "display_name": "Python 3",
   "language": "python",
   "name": "python3"
  },
  "language_info": {
   "codemirror_mode": {
    "name": "ipython",
    "version": 3
   },
   "file_extension": ".py",
   "mimetype": "text/x-python",
   "name": "python",
   "nbconvert_exporter": "python",
   "pygments_lexer": "ipython3",
   "version": "3.8.10"
  },
  "widgets": {
   "application/vnd.jupyter.widget-state+json": {
    "state": {},
    "version_major": 2,
    "version_minor": 0
   }
  }
 },
 "nbformat": 4,
 "nbformat_minor": 5
}
